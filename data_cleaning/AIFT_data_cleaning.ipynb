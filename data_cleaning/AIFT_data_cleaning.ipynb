{
 "cells": [
  {
   "cell_type": "code",
   "execution_count": null,
   "id": "3e0baa9f",
   "metadata": {},
   "outputs": [],
   "source": [
    "import re\n",
    "from typing import List"
   ]
  },
  {
   "cell_type": "code",
   "execution_count": 2,
   "id": "05c7bcc4",
   "metadata": {},
   "outputs": [],
   "source": [
    "def clean_by_patterns(text:str, pattern_pair:List[tuple]) -> str:\n",
    "    for p, r in pattern_pair:\n",
    "        text = re.sub(p, r, text)\n",
    "    return text.strip()"
   ]
  },
  {
   "cell_type": "code",
   "execution_count": 3,
   "id": "188802f5",
   "metadata": {},
   "outputs": [],
   "source": [
    "pattern_whitespace = [\n",
    "                      (r'[\\r\\n]+', r'___NEWLINE___'), # handle actual newline\n",
    "                      (r'\\s+', ' '),                  # handle whitespace (space, tab, newline)\n",
    "                      (r'___NEWLINE___', '\\n')        # convert newline to original form\n",
    "                     ]\n",
    "\n",
    "pattern_pantip = [\n",
    "                   (r'ความคิดเห็นที่ \\d+(-\\d+)? |^หัวข้อ ', '\\n\\n'), # only \"ความคิดเห็นที่ x-x\" กับ \"หัวข้อ\" \n",
    "                 ]"
   ]
  },
  {
   "cell_type": "code",
   "execution_count": 4,
   "id": "364488e6",
   "metadata": {},
   "outputs": [],
   "source": [
    "text = \"\"\"ความคิดเห็นที่ 5-2 ผมมีความคิดเห็นกับหัวข้อนี้ที่แตกกต่างจาก จขกท ครับ\\n\\n\\nละครไทย ไปมากกว่าใน ฟรีทีวีแล้วครับ (หลายเรื่องฉายในฟรีทีวีแบบตัดดูแปลก ๆ พอไปดูในสตรีม ลงตัวกว่าเห็น ๆ) \\n\\nในสตรีมต่าง ๆดี ๆเยอะเลย (เพิ่งดู Thank you Teacher จบ กำลังตามดู ต้นฉบับ Black Dog ต่อ )\\n\\n\\n\\nป.ล. หรือจะลองดู ละครคุณธรรม 55555 \"\"\""
   ]
  },
  {
   "cell_type": "code",
   "execution_count": 5,
   "id": "7e50cf81",
   "metadata": {},
   "outputs": [
    {
     "name": "stdout",
     "output_type": "stream",
     "text": [
      "ความคิดเห็นที่ 5-2 ผมมีความคิดเห็นกับหัวข้อนี้ที่แตกกต่างจาก จขกท ครับ\n",
      "\n",
      "\n",
      "ละครไทย ไปมากกว่าใน ฟรีทีวีแล้วครับ (หลายเรื่องฉายในฟรีทีวีแบบตัดดูแปลก ๆ พอไปดูในสตรีม ลงตัวกว่าเห็น ๆ) \n",
      "\n",
      "ในสตรีมต่าง ๆดี ๆเยอะเลย (เพิ่งดู Thank you Teacher จบ กำลังตามดู ต้นฉบับ Black Dog ต่อ )\n",
      "\n",
      "\n",
      "\n",
      "ป.ล. หรือจะลองดู ละครคุณธรรม 55555 \n"
     ]
    }
   ],
   "source": [
    "print(text)"
   ]
  },
  {
   "cell_type": "code",
   "execution_count": 6,
   "id": "01732451",
   "metadata": {},
   "outputs": [
    {
     "name": "stdout",
     "output_type": "stream",
     "text": [
      "ผมมีความคิดเห็นกับหัวข้อนี้ที่แตกกต่างจาก จขกท ครับ\n",
      "ละครไทย ไปมากกว่าใน ฟรีทีวีแล้วครับ (หลายเรื่องฉายในฟรีทีวีแบบตัดดูแปลก ๆ พอไปดูในสตรีม ลงตัวกว่าเห็น ๆ) \n",
      "ในสตรีมต่าง ๆดี ๆเยอะเลย (เพิ่งดู Thank you Teacher จบ กำลังตามดู ต้นฉบับ Black Dog ต่อ )\n",
      "ป.ล. หรือจะลองดู ละครคุณธรรม 55555\n"
     ]
    }
   ],
   "source": [
    "t = clean_by_patterns(text, pattern_whitespace)\n",
    "t = clean_by_patterns(t, pattern_pantip)\n",
    "print(t)"
   ]
  },
  {
   "cell_type": "code",
   "execution_count": null,
   "id": "a5901ab9",
   "metadata": {},
   "outputs": [],
   "source": []
  }
 ],
 "metadata": {
  "kernelspec": {
   "display_name": "Python 3 (ipykernel)",
   "language": "python",
   "name": "python3"
  },
  "language_info": {
   "codemirror_mode": {
    "name": "ipython",
    "version": 3
   },
   "file_extension": ".py",
   "mimetype": "text/x-python",
   "name": "python",
   "nbconvert_exporter": "python",
   "pygments_lexer": "ipython3",
   "version": "0.0.0"
  }
 },
 "nbformat": 4,
 "nbformat_minor": 5
}
