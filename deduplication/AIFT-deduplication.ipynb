{
 "cells": [
  {
   "cell_type": "markdown",
   "id": "b43725f2",
   "metadata": {},
   "source": [
    "## DEDUPLICATION WITH MINHASH"
   ]
  },
  {
   "cell_type": "markdown",
   "id": "2686469c",
   "metadata": {},
   "source": [
    "### Jaccard Similarity\n",
    "![jaccard](https://media.geeksforgeeks.org/wp-content/uploads/20230811131746/How-to-Calculate-Jaccard-Similarity-in-Python.png)\n",
    "* SetA = document A\n",
    "* SetB = document B\n",
    "* Elements in each set are words\n",
    "* The more cocument A is alike document B, the more propotion of intersection "
   ]
  },
  {
   "cell_type": "code",
   "execution_count": 148,
   "id": "fe86c214",
   "metadata": {},
   "outputs": [
    {
     "data": {
      "text/plain": [
       "0.4444444444444444"
      ]
     },
     "execution_count": 148,
     "metadata": {},
     "output_type": "execute_result"
    }
   ],
   "source": [
    "# https://mattilyra.github.io/2017/05/23/document-deduplication-with-lsh.html\n",
    "\n",
    "s1 = 'สวัสดีครับ'\n",
    "s2 = 'สวัสดีค่ะ'\n",
    "\n",
    "shingles1 = set([s1[max(0, i-4):i] for i in range(4, len(s1) + 1)])\n",
    "shingles2 = set([s2[max(0, i-4):i] for i in range(4, len(s2) + 1)])\n",
    "\n",
    "len(shingles1 & shingles2) / len(shingles1 | shingles2)"
   ]
  },
  {
   "cell_type": "code",
   "execution_count": 149,
   "id": "544528c3",
   "metadata": {},
   "outputs": [
    {
     "name": "stdout",
     "output_type": "stream",
     "text": [
      "what is inside the shingles1\n",
      "['สวัส', 'วัสด', 'ัสดี', 'สดีค', 'ดีคร', 'ีครั', 'ครับ']\n",
      "shingles1\n",
      "{'ีครั', 'ดีคร', 'วัสด', 'ครับ', 'สดีค', 'สวัส', 'ัสดี'}\n"
     ]
    }
   ],
   "source": [
    "print('what is inside the shingles1')\n",
    "print( [s1[max(0, i-4):i] for i in range(4, len(s1) + 1)] )\n",
    "\n",
    "print('shingles1')\n",
    "print( shingles1 )"
   ]
  },
  {
   "cell_type": "code",
   "execution_count": null,
   "id": "b55d1b50",
   "metadata": {},
   "outputs": [],
   "source": []
  },
  {
   "cell_type": "markdown",
   "id": "f8eca844",
   "metadata": {},
   "source": [
    "### MINHASH"
   ]
  },
  {
   "cell_type": "code",
   "execution_count": 154,
   "id": "e3a484e3",
   "metadata": {},
   "outputs": [
    {
     "name": "stdout",
     "output_type": "stream",
     "text": [
      "Jaccard Similarity: 0.7391304347826086\n"
     ]
    }
   ],
   "source": [
    "import hashlib\n",
    "import random\n",
    "\n",
    "class MinHash:\n",
    "    def __init__(self, num_hashes):\n",
    "        self.num_hashes = num_hashes\n",
    "        self.hashes = self._generate_hashes()\n",
    "\n",
    "    def _generate_hashes(self):\n",
    "        # Generate random hash functions\n",
    "        return [(random.randint(1, 1000), random.randint(1, 1000)) for _ in range(self.num_hashes)]\n",
    "\n",
    "    def hash_set(self, input_set):\n",
    "        # Initialize with infinite values\n",
    "        min_hashes = [float('inf')] * self.num_hashes\n",
    "\n",
    "        for elem in input_set:\n",
    "            # Hash each element in the set\n",
    "            for i, (a, b) in enumerate(self.hashes):\n",
    "                hash_value = (a * hash(elem) + b) % (2**32 - 1)\n",
    "                min_hashes[i] = min(min_hashes[i], hash_value)\n",
    "\n",
    "        return min_hashes\n",
    "\n",
    "    def jaccard_similarity(self, set1, set2):\n",
    "        # Calculate Jaccard similarity using MinHash\n",
    "        minhash_set1 = self.hash_set(set1)\n",
    "        minhash_set2 = self.hash_set(set2)\n",
    "        \n",
    "        s1 = set(minhash_set1)\n",
    "        s2 = set(minhash_set2)\n",
    "        \n",
    "        return len(s1 & s2)/len(s1 | s2)\n",
    "\n",
    "\n",
    "# Example usage:\n",
    "s1 = 'สวัสดีครับ'\n",
    "s2 = 'สวัสดีครับบ'\n",
    "\n",
    "# s1 = 'หนุ่มเปิดกล้องดูลูกสาว จู่ๆ ได้ยินเมียสอนเรียกคนอื่นว่า \"พ่อ\" สืบจนรู้ความลับใจสลาย · พูดครั้งแรก! · เปิดภาพ 2 ชายต้องสงสัย ซ้อนมอไซค์ฯ มาลักเก๋ง'\n",
    "# s2 = 'หนุ่มเปิดกล้องดูลูกสาว จู่ๆ ได้ยินภรรยาสอนเรียกคนอื่นว่า \"ป๊า\" สืบจนรู้ความลับใจสลาย · พูดครั้งแรก! · เปิดภาพ 2 ชายต้องสงสัย ซ้อนมอเตอร์ไซค์ มาลักเก๋ง'\n",
    "# s2 = 'สืบจนรู้ความลับใจสลาย · พูดครั้งแรก! · เปิดภาพ 2 ชายต้องสงสัย ซ้อนมอเตอร์ไซค์ มาลักเก๋ง หนุ่มเปิดกล้องดูลูกสาว จู่ๆ ได้ยินภรรยาสอนเรียกคนอื่นว่า \"ป๊า\"'\n",
    "# s2 = 'Mark Zuckerberg เผยลูกสาวคิดว่าตัวเขาทำงานฟาร์มวัว. 23 ก.พ. 67 · Meizu ยุบแผนพัฒนาสมาร์ทโฟนแบบดั้งเดิม ทุ่มสรรพกำลังทำงานด้าน'\n",
    "\n",
    "shingles1 = set([s1[max(0, i-4):i] for i in range(4, len(s1) + 1)])\n",
    "shingles2 = set([s2[max(0, i-4):i] for i in range(4, len(s2) + 1)])\n",
    "\n",
    "num_hashes = 100\n",
    "minhash = MinHash(num_hashes)\n",
    "\n",
    "similarity = minhash.jaccard_similarity(shingles1, shingles2)\n",
    "print(f\"Jaccard Similarity: {similarity}\")\n"
   ]
  },
  {
   "cell_type": "code",
   "execution_count": null,
   "id": "67ad0be8",
   "metadata": {},
   "outputs": [],
   "source": []
  },
  {
   "cell_type": "markdown",
   "id": "ed3d70e6",
   "metadata": {},
   "source": [
    "### MINHASH WITH LIB"
   ]
  },
  {
   "cell_type": "code",
   "execution_count": 1,
   "id": "2aa3bcef",
   "metadata": {},
   "outputs": [
    {
     "name": "stdout",
     "output_type": "stream",
     "text": [
      "Requirement already satisfied: datasketch in /home/prejudice/miniconda3/envs/abdul/lib/python3.7/site-packages (1.6.4)\n",
      "Requirement already satisfied: numpy>=1.11 in /home/prejudice/miniconda3/envs/abdul/lib/python3.7/site-packages (from datasketch) (1.21.5)\n",
      "Requirement already satisfied: scipy>=1.0.0 in /home/prejudice/miniconda3/envs/abdul/lib/python3.7/site-packages (from datasketch) (1.7.3)\n",
      "\n",
      "\u001b[1m[\u001b[0m\u001b[34;49mnotice\u001b[0m\u001b[1;39;49m]\u001b[0m\u001b[39;49m A new release of pip is available: \u001b[0m\u001b[31;49m23.3.2\u001b[0m\u001b[39;49m -> \u001b[0m\u001b[32;49m24.0\u001b[0m\n",
      "\u001b[1m[\u001b[0m\u001b[34;49mnotice\u001b[0m\u001b[1;39;49m]\u001b[0m\u001b[39;49m To update, run: \u001b[0m\u001b[32;49mpip install --upgrade pip\u001b[0m\n",
      "Requirement already satisfied: pythainlp in /home/prejudice/miniconda3/envs/abdul/lib/python3.7/site-packages (3.0.5)\n",
      "Requirement already satisfied: requests>=2.22.0 in /home/prejudice/.local/lib/python3.7/site-packages (from pythainlp) (2.28.1)\n",
      "Requirement already satisfied: tinydb>=3.0 in /home/prejudice/miniconda3/envs/abdul/lib/python3.7/site-packages (from pythainlp) (4.7.0)\n",
      "Requirement already satisfied: charset-normalizer<3,>=2 in /home/prejudice/.local/lib/python3.7/site-packages (from requests>=2.22.0->pythainlp) (2.1.1)\n",
      "Requirement already satisfied: idna<4,>=2.5 in /home/prejudice/.local/lib/python3.7/site-packages (from requests>=2.22.0->pythainlp) (3.4)\n",
      "Requirement already satisfied: urllib3<1.27,>=1.21.1 in /home/prejudice/.local/lib/python3.7/site-packages (from requests>=2.22.0->pythainlp) (1.26.12)\n",
      "Requirement already satisfied: certifi>=2017.4.17 in /home/prejudice/miniconda3/envs/abdul/lib/python3.7/site-packages (from requests>=2.22.0->pythainlp) (2021.10.8)\n",
      "Requirement already satisfied: typing-extensions<5.0.0,>=3.10.0 in /home/prejudice/miniconda3/envs/abdul/lib/python3.7/site-packages (from tinydb>=3.0->pythainlp) (3.10.0.2)\n",
      "\n",
      "\u001b[1m[\u001b[0m\u001b[34;49mnotice\u001b[0m\u001b[1;39;49m]\u001b[0m\u001b[39;49m A new release of pip is available: \u001b[0m\u001b[31;49m23.3.2\u001b[0m\u001b[39;49m -> \u001b[0m\u001b[32;49m24.0\u001b[0m\n",
      "\u001b[1m[\u001b[0m\u001b[34;49mnotice\u001b[0m\u001b[1;39;49m]\u001b[0m\u001b[39;49m To update, run: \u001b[0m\u001b[32;49mpip install --upgrade pip\u001b[0m\n"
     ]
    }
   ],
   "source": [
    "!pip install datasketch\n",
    "!pip install pythainlp"
   ]
  },
  {
   "cell_type": "code",
   "execution_count": 2,
   "id": "1c74fd4e",
   "metadata": {},
   "outputs": [],
   "source": [
    "from datasketch import MinHash, MinHashLSH\n",
    "from pythainlp.tokenize import word_tokenize"
   ]
  },
  {
   "cell_type": "code",
   "execution_count": 3,
   "id": "d6f819df",
   "metadata": {},
   "outputs": [],
   "source": [
    "SIMILARITY_THRESHOLD = 0.6\n",
    "NUM_PERMS = 96\n",
    "SHINGLE_SIZE = 4"
   ]
  },
  {
   "cell_type": "code",
   "execution_count": 4,
   "id": "c9c2565a",
   "metadata": {},
   "outputs": [],
   "source": [
    "# sentences\n",
    "s1 = \"This is a piece of text\"\n",
    "s2 = \"This is a similar piece of text\"\n",
    "s3 = \"This is also a similar piece of text\"\n",
    "\n",
    "# init minhash for each sentence\n",
    "minhash1 = MinHash(num_perm=NUM_PERMS)\n",
    "minhash2 = MinHash(num_perm=NUM_PERMS)\n",
    "minhash3 = MinHash(num_perm=NUM_PERMS)\n",
    "\n",
    "# process minhash for each sentence\n",
    "for d in set(s1.split()):\n",
    "    minhash1.update(d.encode(\"utf8\"))\n",
    "for d in set(s2.split()):\n",
    "    minhash2.update(d.encode(\"utf8\"))\n",
    "for d in set(s3.split()):\n",
    "    minhash3.update(d.encode(\"utf8\"))"
   ]
  },
  {
   "cell_type": "code",
   "execution_count": 5,
   "id": "c0eb79de",
   "metadata": {},
   "outputs": [],
   "source": [
    "# indexing \n",
    "lsh = MinHashLSH(threshold=SIMILARITY_THRESHOLD, num_perm=NUM_PERMS)\n",
    "lsh.insert(\"text1\", minhash1)\n",
    "lsh.insert(\"text3\", minhash3)"
   ]
  },
  {
   "cell_type": "code",
   "execution_count": 6,
   "id": "cee17a25",
   "metadata": {},
   "outputs": [
    {
     "data": {
      "text/plain": [
       "['text1', 'text3']"
      ]
     },
     "execution_count": 6,
     "metadata": {},
     "output_type": "execute_result"
    }
   ],
   "source": [
    "# retrieval\n",
    "lsh.query(minhash2)"
   ]
  },
  {
   "cell_type": "code",
   "execution_count": 7,
   "id": "70df89dc",
   "metadata": {},
   "outputs": [
    {
     "data": {
      "text/plain": [
       "0.78125"
      ]
     },
     "execution_count": 7,
     "metadata": {},
     "output_type": "execute_result"
    }
   ],
   "source": [
    "minhash1.jaccard(minhash2)"
   ]
  },
  {
   "cell_type": "code",
   "execution_count": null,
   "id": "4b7946d6",
   "metadata": {},
   "outputs": [],
   "source": []
  },
  {
   "cell_type": "markdown",
   "id": "1e85f4d1",
   "metadata": {},
   "source": [
    "#### EXMPLE OF DEDUPLICATION"
   ]
  },
  {
   "cell_type": "code",
   "execution_count": 8,
   "id": "c791f5ad",
   "metadata": {},
   "outputs": [],
   "source": [
    "s1 = 'หนุ่มเปิดกล้องดูลูกสาว จู่ๆ ได้ยินเมียสอนเรียกคนอื่นว่า \"พ่อ\" สืบจนรู้ความลับใจสลาย · พูดครั้งแรก! · เปิดภาพ 2 ชายต้องสงสัย ซ้อนมอไซค์ฯ มาลักเก๋ง'\n",
    "s2 = 'หนุ่มเปิดกล้องดูลูกสาว จู่ๆ ได้ยินภรรยาสอนเรียกคนอื่นว่า \"ป๊า\" สืบจนรู้ความลับใจสลาย · พูดครั้งแรก! · เปิดภาพ 2 ชายต้องสงสัย ซ้อนมอเตอร์ไซค์ มาลักเก๋ง'\n",
    "s3 = 'สืบจนรู้ความลับใจสลาย · พูดครั้งแรก! · เปิดภาพ 2 ชายต้องสงสัย ซ้อนมอไซค์ มาลักเก๋ง หนุ่มเปิดกล้องดูลูกสาว จู่ๆ ได้ยินภรรยาสอนเรียกคนอื่นว่า \"ป๊า\"'\n",
    "s4 = 'Mark Zuckerberg เผยลูกสาวคิดว่าตัวเขาทำงานฟาร์มวัว. 23 ก.พ. 67 · Meizu ยุบแผนพัฒนาสมาร์ทโฟนแบบดั้งเดิม ทุ่มสรรพกำลังทำงานด้าน'\n",
    "\n",
    "minhash1 = MinHash(num_perm=NUM_PERMS)\n",
    "minhash2 = MinHash(num_perm=NUM_PERMS)\n",
    "minhash3 = MinHash(num_perm=NUM_PERMS)\n",
    "minhash4 = MinHash(num_perm=NUM_PERMS)\n",
    "\n",
    "for d in word_tokenize(s1): minhash1.update(d.encode('utf8'))\n",
    "for d in word_tokenize(s2): minhash2.update(d.encode('utf8'))\n",
    "for d in word_tokenize(s3): minhash3.update(d.encode('utf8'))\n",
    "for d in word_tokenize(s4): minhash4.update(d.encode('utf8'))"
   ]
  },
  {
   "cell_type": "code",
   "execution_count": 9,
   "id": "b1c6f116",
   "metadata": {},
   "outputs": [],
   "source": [
    "lsh = MinHashLSH(threshold=SIMILARITY_THRESHOLD, num_perm=NUM_PERMS)\n",
    "lsh.insert(\"text2\", minhash2)\n",
    "lsh.insert(\"text3\", minhash3)\n",
    "lsh.insert(\"text4\", minhash4)"
   ]
  },
  {
   "cell_type": "code",
   "execution_count": 10,
   "id": "0f5b57b9",
   "metadata": {},
   "outputs": [
    {
     "data": {
      "text/plain": [
       "['text2', 'text3']"
      ]
     },
     "execution_count": 10,
     "metadata": {},
     "output_type": "execute_result"
    }
   ],
   "source": [
    "lsh.query(minhash1)"
   ]
  },
  {
   "cell_type": "code",
   "execution_count": 11,
   "id": "ce4bd980",
   "metadata": {},
   "outputs": [
    {
     "data": {
      "text/plain": [
       "0.8020833333333334"
      ]
     },
     "execution_count": 11,
     "metadata": {},
     "output_type": "execute_result"
    }
   ],
   "source": [
    "minhash1.jaccard(minhash2)"
   ]
  },
  {
   "cell_type": "code",
   "execution_count": 12,
   "id": "cbe086b1",
   "metadata": {},
   "outputs": [
    {
     "data": {
      "text/plain": [
       "0.052083333333333336"
      ]
     },
     "execution_count": 12,
     "metadata": {},
     "output_type": "execute_result"
    }
   ],
   "source": [
    "minhash1.jaccard(minhash4)"
   ]
  },
  {
   "cell_type": "code",
   "execution_count": null,
   "id": "83fe7a5f",
   "metadata": {},
   "outputs": [],
   "source": []
  }
 ],
 "metadata": {
  "kernelspec": {
   "display_name": "Python 3 (ipykernel)",
   "language": "python",
   "name": "python3"
  },
  "language_info": {
   "codemirror_mode": {
    "name": "ipython",
    "version": 3
   },
   "file_extension": ".py",
   "mimetype": "text/x-python",
   "name": "python",
   "nbconvert_exporter": "python",
   "pygments_lexer": "ipython3",
   "version": "3.7.13"
  }
 },
 "nbformat": 4,
 "nbformat_minor": 5
}
